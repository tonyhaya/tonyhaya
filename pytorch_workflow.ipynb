{
  "nbformat": 4,
  "nbformat_minor": 0,
  "metadata": {
    "colab": {
      "name": "pytorch_workflow.ipynb",
      "provenance": [],
      "collapsed_sections": [],
      "authorship_tag": "ABX9TyMiltETt+A28T0O2LX0bcgx",
      "include_colab_link": true
    },
    "kernelspec": {
      "name": "python3",
      "display_name": "Python 3"
    },
    "language_info": {
      "name": "python"
    }
  },
  "cells": [
    {
      "cell_type": "markdown",
      "metadata": {
        "id": "view-in-github",
        "colab_type": "text"
      },
      "source": [
        "<a href=\"https://colab.research.google.com/github/tonyhaya/tonyhaya/blob/main/pytorch_workflow.ipynb\" target=\"_parent\"><img src=\"https://colab.research.google.com/assets/colab-badge.svg\" alt=\"Open In Colab\"/></a>"
      ]
    },
    {
      "cell_type": "code",
      "source": [
        "import torch\n",
        "from torch import nn\n",
        "import matplotlib.pyplot as plt\n",
        "from torch import nn\n",
        "import numpy as np"
      ],
      "metadata": {
        "id": "aZ7Qej7uqTh5"
      },
      "execution_count": 15,
      "outputs": []
    },
    {
      "cell_type": "markdown",
      "source": [
        "#Conhecendo ML como usar Pytorch\n",
        "* Isto está formatado como código\n",
        "* Data prepara dados e carregar\n",
        "* Construir modelos\n",
        "* Alimentat o modelo\n",
        "* Fazer previsãoes e avaliar modelo\n",
        "* salvar e carregar o modelo\n",
        "* Contruir tudo\n",
        "\n"
      ],
      "metadata": {
        "id": "ZXacIy2WnwIK"
      }
    },
    {
      "cell_type": "code",
      "source": [
        "casa={\n",
        "    1: \"xícara\",\n",
        "    2: \"bola\"}\n",
        "casa[2]"
      ],
      "metadata": {
        "colab": {
          "base_uri": "https://localhost:8080/",
          "height": 35
        },
        "id": "pSv2JoRFps_D",
        "outputId": "2d71d5f7-97a7-4081-8e28-5350b30b0a1d"
      },
      "execution_count": 2,
      "outputs": [
        {
          "output_type": "execute_result",
          "data": {
            "text/plain": [
              "'bola'"
            ],
            "application/vnd.google.colaboratory.intrinsic+json": {
              "type": "string"
            }
          },
          "metadata": {},
          "execution_count": 2
        }
      ]
    },
    {
      "cell_type": "markdown",
      "source": [
        "## Dado (preparando e carregando)\n",
        "\n",
        "pode ser qualquer coisa\n",
        "\n",
        "* Excel speadsheet\n",
        "* Imagens  qualquer tipo\n",
        "* videos\n",
        "* Audio\n",
        "* DNA\n",
        "* Texto"
      ],
      "metadata": {
        "id": "Cd4vpKHWzy1R"
      }
    },
    {
      "cell_type": "code",
      "source": [
        "class Hello_world():\n",
        "  def __init__(self,num1,num2):\n",
        "    self.num1=num1\n",
        "    self.num2=num2\n",
        "  def soma(self):\n",
        "    so=self.num1+self.num2\n",
        "    return so"
      ],
      "metadata": {
        "id": "MiV8DKprmgfY"
      },
      "execution_count": 3,
      "outputs": []
    },
    {
      "cell_type": "code",
      "source": [
        "a=Hello_world(2,1)"
      ],
      "metadata": {
        "id": "p_fK4tbzwdPi"
      },
      "execution_count": 4,
      "outputs": []
    },
    {
      "cell_type": "code",
      "source": [
        "a.soma()"
      ],
      "metadata": {
        "id": "9Mv7fj9Awjur",
        "colab": {
          "base_uri": "https://localhost:8080/"
        },
        "outputId": "252657fe-dd0a-4fca-9923-a0ee4e6f0cc5"
      },
      "execution_count": 5,
      "outputs": [
        {
          "output_type": "execute_result",
          "data": {
            "text/plain": [
              "3"
            ]
          },
          "metadata": {},
          "execution_count": 5
        }
      ]
    },
    {
      "cell_type": "code",
      "source": [
        "weight=0.7\n",
        "bias=.3\n",
        "x=torch.arange(0,1,.02).unsqueeze(dim=1)\n",
        "y=weight*x+bias\n",
        "print(x[:10])\n",
        "print(y[:10])\n",
        "len(x),len(y)"
      ],
      "metadata": {
        "id": "1Y6_Ji221km4",
        "colab": {
          "base_uri": "https://localhost:8080/"
        },
        "outputId": "d2dba53e-4a3f-4cff-d558-2bcb7cb1f41c"
      },
      "execution_count": 6,
      "outputs": [
        {
          "output_type": "stream",
          "name": "stdout",
          "text": [
            "tensor([[0.0000],\n",
            "        [0.0200],\n",
            "        [0.0400],\n",
            "        [0.0600],\n",
            "        [0.0800],\n",
            "        [0.1000],\n",
            "        [0.1200],\n",
            "        [0.1400],\n",
            "        [0.1600],\n",
            "        [0.1800]])\n",
            "tensor([[0.3000],\n",
            "        [0.3140],\n",
            "        [0.3280],\n",
            "        [0.3420],\n",
            "        [0.3560],\n",
            "        [0.3700],\n",
            "        [0.3840],\n",
            "        [0.3980],\n",
            "        [0.4120],\n",
            "        [0.4260]])\n"
          ]
        },
        {
          "output_type": "execute_result",
          "data": {
            "text/plain": [
              "(50, 50)"
            ]
          },
          "metadata": {},
          "execution_count": 6
        }
      ]
    },
    {
      "cell_type": "code",
      "source": [
        "split_data=int(.8*len(x))\n",
        "x_train,y_train=x[:split_data],y[:split_data]\n",
        "x_test,y_test=x[split_data:],y[split_data:]"
      ],
      "metadata": {
        "id": "NJWAkhRTi54U"
      },
      "execution_count": 7,
      "outputs": []
    },
    {
      "cell_type": "code",
      "source": [
        "def plot_predictions(train_data=x_train\n",
        "                     ,test_data=x_test\n",
        "                     ,train_label=y_train\n",
        "                     ,test_label=y_test\n",
        "                     ,predictions=None):\n",
        " plt.figure(figsize=(10,7))\n",
        " #azul training\n",
        " plt.scatter(train_data,train_label,c=\"b\",s=4,label=\"Training data\")\n",
        " #Preto teste\n",
        " plt.scatter(test_data,test_label,c=\"y\",s=4,label=\"Testing data\")\n",
        " if predictions is not None:\n",
        "   plt.scatter(test_data,predictions,c='r',label=\"Predictions\")\n",
        " plt.legend(prop={\"size\":14})"
      ],
      "metadata": {
        "id": "zEu5GC4S8JwW"
      },
      "execution_count": 8,
      "outputs": []
    },
    {
      "cell_type": "code",
      "source": [
        "plot_predictions()"
      ],
      "metadata": {
        "id": "m58azapUa3Xt",
        "colab": {
          "base_uri": "https://localhost:8080/",
          "height": 428
        },
        "outputId": "82d154e9-de4e-4179-bdda-ee88f68e8095"
      },
      "execution_count": 9,
      "outputs": [
        {
          "output_type": "display_data",
          "data": {
            "text/plain": [
              "<Figure size 720x504 with 1 Axes>"
            ],
            "image/png": "[encoded data removed]"
          },
          "metadata": {
            "needs_background": "light"
          }
        }
      ]
    },
    {
      "cell_type": "markdown",
      "source": [
        " ## Build a model"
      ],
      "metadata": {
        "id": "RcV1AXt5b1FQ"
      }
    },
    {
      "cell_type": "code",
      "source": [
        "class LinearRegressionModel(nn.Module):\n",
        "  def __init__(self):\n",
        "    super().__init__()\n",
        "    self.weights= nn.Parameter(torch.randn(1\n",
        "                                           ,requires_grad=True\n",
        "                                           ,dtype=torch.float))\n",
        "    self.bias=nn.Parameter(torch.randn(1,requires_grad=True\n",
        "                                           ,dtype=torch.float))\n",
        "  def forward(self,x: torch.Tensor)-> torch.Tensor:\n",
        "    return self.weights*x+self.bias"
      ],
      "metadata": {
        "id": "BBXneGjqcRkL"
      },
      "execution_count": 16,
      "outputs": []
    },
    {
      "cell_type": "code",
      "source": [
        "torch.manual_seed(42)\n",
        "model_0=LinearRegressionModel()\n",
        "model_0.state_dict(),list(model_0.parameters())"
      ],
      "metadata": {
        "id": "LkuAhRk4mDXO",
        "colab": {
          "base_uri": "https://localhost:8080/"
        },
        "outputId": "5e21c122-27f3-4baf-c721-e981da79864b"
      },
      "execution_count": 11,
      "outputs": [
        {
          "output_type": "execute_result",
          "data": {
            "text/plain": [
              "(OrderedDict([('weights', tensor([0.3367])), ('bias', tensor([0.1288]))]),\n",
              " [Parameter containing:\n",
              "  tensor([0.3367], requires_grad=True), Parameter containing:\n",
              "  tensor([0.1288], requires_grad=True)])"
            ]
          },
          "metadata": {},
          "execution_count": 11
        }
      ]
    },
    {
      "cell_type": "markdown",
      "source": [
        "### Making prediction with torch.inference_mode()\n",
        "Check features and labels if is ok"
      ],
      "metadata": {
        "id": "TutT_s5wKYJi"
      }
    },
    {
      "cell_type": "code",
      "source": [],
      "metadata": {
        "id": "vQrlNPPwL6Mt"
      },
      "execution_count": 11,
      "outputs": []
    },
    {
      "cell_type": "code",
      "source": [
        "# Make prediction with model\n",
        "\n",
        "with torch.inference_mode():\n",
        "  y_pred=model_0(x_test)\n",
        "y_pred"
      ],
      "metadata": {
        "colab": {
          "base_uri": "https://localhost:8080/"
        },
        "id": "xu7XjXnOKs85",
        "outputId": "8fdb1491-a835-4aa9-8620-be17a72b494b"
      },
      "execution_count": 12,
      "outputs": [
        {
          "output_type": "execute_result",
          "data": {
            "text/plain": [
              "tensor([[0.3982],\n",
              "        [0.4049],\n",
              "        [0.4116],\n",
              "        [0.4184],\n",
              "        [0.4251],\n",
              "        [0.4318],\n",
              "        [0.4386],\n",
              "        [0.4453],\n",
              "        [0.4520],\n",
              "        [0.4588]])"
            ]
          },
          "metadata": {},
          "execution_count": 12
        }
      ]
    },
    {
      "cell_type": "code",
      "source": [
        "plot_predictions(predictions=y_pred)"
      ],
      "metadata": {
        "colab": {
          "base_uri": "https://localhost:8080/",
          "height": 428
        },
        "id": "HakdNHUwM0xd",
        "outputId": "e3f6c7c9-bcd8-4d66-fd9f-991aab9a111d"
      },
      "execution_count": 13,
      "outputs": [
        {
          "output_type": "display_data",
          "data": {
            "text/plain": [
              "<Figure size 720x504 with 1 Axes>"
            ],
            "image/png": "[encoded data removed]"
          },
          "metadata": {
            "needs_background": "light"
          }
        }
      ]
    },
    {
      "cell_type": "markdown",
      "source": [
        "## Loss function and optimizer"
      ],
      "metadata": {
        "id": "puLvM5lAZg-I"
      }
    },
    {
      "cell_type": "code",
      "source": [
        "#setup both\n",
        "Loss_fn=nn.L1Loss()\n",
        "Optimizer= torch.optim.SGD(params=model_0.parameters(),\n",
        "                           lr=0.01)"
      ],
      "metadata": {
        "id": "7lVtPy8yJfOV"
      },
      "execution_count": 17,
      "outputs": []
    },
    {
      "cell_type": "code",
      "source": [],
      "metadata": {
        "id": "9V0QE0rQKsus"
      },
      "execution_count": 36,
      "outputs": []
    }
  ]
}